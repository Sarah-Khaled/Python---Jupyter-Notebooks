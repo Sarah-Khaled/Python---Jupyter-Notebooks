{
 "cells": [
  {
   "cell_type": "code",
   "execution_count": 1,
   "metadata": {},
   "outputs": [
    {
     "name": "stdout",
     "output_type": "stream",
     "text": [
      "('NPower', 'JDA', 'Tuesday', 30, 3, 2021)\n"
     ]
    }
   ],
   "source": [
    "#Q1 Create myTuple tuple with the follwoing values (\"NPower\",\"JDA\",\"Tuesday\",30,3,2021)\n",
    "myTuple=(\"NPower\",\"JDA\",\"Tuesday\",30,3,2021)\n",
    "myTuple\n",
    "print(myTuple)"
   ]
  },
  {
   "cell_type": "code",
   "execution_count": 2,
   "metadata": {},
   "outputs": [
    {
     "data": {
      "text/plain": [
       "tuple"
      ]
     },
     "execution_count": 2,
     "metadata": {},
     "output_type": "execute_result"
    }
   ],
   "source": [
    "#Q2 What is the type of myTuple\n",
    "type(myTuple)"
   ]
  },
  {
   "cell_type": "code",
   "execution_count": 3,
   "metadata": {},
   "outputs": [
    {
     "data": {
      "text/plain": [
       "6"
      ]
     },
     "execution_count": 3,
     "metadata": {},
     "output_type": "execute_result"
    }
   ],
   "source": [
    "#Q3 What is the length of myTuple\n",
    "len(myTuple)"
   ]
  },
  {
   "cell_type": "code",
   "execution_count": 4,
   "metadata": {},
   "outputs": [
    {
     "name": "stdout",
     "output_type": "stream",
     "text": [
      "NPower JDA Tuesday .... 2021\n"
     ]
    }
   ],
   "source": [
    "#Q4 print the values in each index #Use regular indexing \n",
    "print(myTuple[0], myTuple[1], myTuple[2],\"....\", myTuple[5])"
   ]
  },
  {
   "cell_type": "code",
   "execution_count": 5,
   "metadata": {},
   "outputs": [
    {
     "name": "stdout",
     "output_type": "stream",
     "text": [
      "2021 3 NPower\n"
     ]
    }
   ],
   "source": [
    "#Q5 print the values in each index #Use negative indexing \n",
    "print(myTuple[-1], myTuple[-2], myTuple[-6])"
   ]
  },
  {
   "cell_type": "code",
   "execution_count": 6,
   "metadata": {},
   "outputs": [
    {
     "name": "stdout",
     "output_type": "stream",
     "text": [
      "<class 'str'> \n",
      " <class 'str'> \n",
      " <class 'int'>\n"
     ]
    }
   ],
   "source": [
    "#Q6 what is the type of each value\n",
    "print(type(myTuple[0]),\"\\n\",type(myTuple[1]),\"\\n\",type(myTuple[3]))"
   ]
  },
  {
   "cell_type": "code",
   "execution_count": 7,
   "metadata": {},
   "outputs": [
    {
     "name": "stdout",
     "output_type": "stream",
     "text": [
      "name is NPower\n",
      "program is JDA\n",
      "Day name Tuesday\n",
      "month 30\n",
      "Day 3\n",
      "year 2021\n"
     ]
    }
   ],
   "source": [
    "#Q7 unpack myTuple in the follwoeing variables name,program,dayName,month,day,year accordingly \n",
    "# print the variables \n",
    "\n",
    "name,program,dayName,month,day,year=myTuple\n",
    "\n",
    "print(\"name is\",name)\n",
    "print(\"program is\",program)\n",
    "print(\"Day name\",dayName)\n",
    "print(\"month\",month)\n",
    "print(\"Day\",day)\n",
    "print(\"year\",year)"
   ]
  },
  {
   "cell_type": "code",
   "execution_count": 8,
   "metadata": {},
   "outputs": [
    {
     "name": "stdout",
     "output_type": "stream",
     "text": [
      "name is Jerry\n",
      "program is 2\n",
      "Day name 89\n",
      "month 30\n",
      "Day 3\n",
      "year 2021\n"
     ]
    }
   ],
   "source": [
    "#Q8 unpack myTuple2 in the follwoeing variablesname,program,dayName.\n",
    "# What will happen to variables (name,program,dayName) and (month,day,year)\n",
    "myTuple2=(\"Jerry\",2,89)\n",
    "name,program,dayName=myTuple2\n",
    "\n",
    "print(\"name is\",name)\n",
    "print(\"program is\",program)\n",
    "print(\"Day name\",dayName)\n",
    "print(\"month\",month)\n",
    "print(\"Day\",day)\n",
    "print(\"year\",year)"
   ]
  },
  {
   "cell_type": "code",
   "execution_count": 9,
   "metadata": {},
   "outputs": [
    {
     "name": "stdout",
     "output_type": "stream",
     "text": [
      "Type a <class 'str'>\n",
      "Jerry 2 89\n",
      "<class 'str'>\n",
      "Ulan\n",
      "Leul\n"
     ]
    }
   ],
   "source": [
    "# Note the following\n",
    "Tuple1=(\"Jerry\",2,89) #This is a tuple with 3 elements \n",
    "Tuple2=(\"Ulan\")#This is a tuple with 1 element\n",
    "test=\"Leul\" #This is a VARIABLE with string value\n",
    "\n",
    "a,b,c=Tuple1\n",
    "print(\"Type a\",type(a))\n",
    "print(a,b,c)\n",
    "\n",
    "d=Tuple2\n",
    "print(type(d))\n",
    "print(d)\n",
    "\n",
    "e=test\n",
    "print(e)"
   ]
  },
  {
   "cell_type": "code",
   "execution_count": 10,
   "metadata": {},
   "outputs": [
    {
     "name": "stdout",
     "output_type": "stream",
     "text": [
      "(1, 2, 3)\n",
      "(4, 5, 6)\n"
     ]
    },
    {
     "ename": "TypeError",
     "evalue": "'tuple' object does not support item assignment",
     "output_type": "error",
     "traceback": [
      "\u001b[1;31m---------------------------------------------------------------------------\u001b[0m",
      "\u001b[1;31mTypeError\u001b[0m                                 Traceback (most recent call last)",
      "\u001b[1;32m<ipython-input-10-a5ae625bca74>\u001b[0m in \u001b[0;36m<module>\u001b[1;34m\u001b[0m\n\u001b[0;32m     11\u001b[0m \u001b[1;31m#But we can't change or edit a value for the existing tuple\u001b[0m\u001b[1;33m\u001b[0m\u001b[1;33m\u001b[0m\u001b[1;33m\u001b[0m\u001b[0m\n\u001b[0;32m     12\u001b[0m \u001b[1;33m\u001b[0m\u001b[0m\n\u001b[1;32m---> 13\u001b[1;33m \u001b[0mtestTuple\u001b[0m\u001b[1;33m[\u001b[0m\u001b[1;36m0\u001b[0m\u001b[1;33m]\u001b[0m\u001b[1;33m=\u001b[0m\u001b[1;36m6\u001b[0m \u001b[1;31m#ERROR 'tuple' object does not support item assignment\u001b[0m\u001b[1;33m\u001b[0m\u001b[1;33m\u001b[0m\u001b[0m\n\u001b[0m\u001b[0;32m     14\u001b[0m \u001b[1;33m\u001b[0m\u001b[0m\n",
      "\u001b[1;31mTypeError\u001b[0m: 'tuple' object does not support item assignment"
     ]
    }
   ],
   "source": [
    "#Tuples are immutable\n",
    "#we can always make the testTuple variable reference a new tuple in the memory \n",
    "#and holding different information\n",
    "\n",
    "testTuple=(1,2,3)\n",
    "print(testTuple)\n",
    "\n",
    "testTuple=(4,5,6)\n",
    "print(testTuple)\n",
    "\n",
    "#But we can't change or edit a value for the existing tuple\n",
    "\n",
    "testTuple[0]=6 #ERROR 'tuple' object does not support item assignment\n",
    "\n"
   ]
  },
  {
   "cell_type": "code",
   "execution_count": 11,
   "metadata": {},
   "outputs": [
    {
     "name": "stdout",
     "output_type": "stream",
     "text": [
      "(2021, 3, 30, 'Tuesday', 'JDA', 'NPower')\n",
      "('NPower', 'JDA', 'Tuesday', 30, 3, 2021)\n"
     ]
    }
   ],
   "source": [
    "#Q9 Reverse myTuple, output should looks like (\"NPower\",\"JDA\",\"Tuesday\",30,3,2021)\n",
    "\n",
    "myTuple=myTuple[::-1]\n",
    "print(myTuple)\n",
    "\n",
    "#Another way\n",
    "myTuple=tuple(reversed(myTuple))\n",
    "print(myTuple)\n"
   ]
  },
  {
   "cell_type": "code",
   "execution_count": 12,
   "metadata": {},
   "outputs": [
    {
     "data": {
      "text/plain": [
       "(('Coursera', 'course', 6), ('week', (2, 'Lists', 'Tuple')))"
      ]
     },
     "execution_count": 12,
     "metadata": {},
     "output_type": "execute_result"
    }
   ],
   "source": [
    "#Q10 Create nestedTuple=((\"Coursera\",\"course\",6),(\"week\",(2,\"Lists\",\"Tuple\")))\n",
    "\n",
    "nestedTuple=((\"Coursera\",\"course\",6),(\"week\",(2,\"Lists\",\"Tuple\")))\n",
    "nestedTuple"
   ]
  },
  {
   "cell_type": "code",
   "execution_count": 13,
   "metadata": {},
   "outputs": [
    {
     "data": {
      "text/plain": [
       "(('week', (2, 'Lists', 'Tuple')),)"
      ]
     },
     "execution_count": 13,
     "metadata": {},
     "output_type": "execute_result"
    }
   ],
   "source": [
    "#Q11 What is the output of nestedTuple[1:2]\n",
    "nestedTuple[1:2]"
   ]
  },
  {
   "cell_type": "code",
   "execution_count": 14,
   "metadata": {},
   "outputs": [
    {
     "name": "stdout",
     "output_type": "stream",
     "text": [
      "**Elements of the first tuple**\n",
      "('Coursera', 'course', 6)\n",
      "Coursera\n",
      "course\n",
      "6\n",
      "\n",
      "**Elements of the second tuple**\n",
      "('week', (2, 'Lists', 'Tuple'))\n",
      "week\n",
      "(2, 'Lists', 'Tuple')\n",
      "\n",
      "**Elements of the sub-tuple in the SECOND tuple**\n",
      "2\n",
      "Lists\n",
      "Tuple\n"
     ]
    }
   ],
   "source": [
    "#Q12 print each element in the nestedTuple\n",
    "\n",
    "# Printing the elements of the first tuple\n",
    "print(\"**Elements of the first tuple**\")\n",
    "print(nestedTuple[0])\n",
    "print(nestedTuple[0][0])\n",
    "print(nestedTuple[0][1])\n",
    "print(nestedTuple[0][2])\n",
    "\n",
    "#print(nestedTuple[0][3])  # ERROR tuple index out of range\n",
    "\n",
    "#Printing the elements of the SECOND tuple\n",
    "print(\"\\n**Elements of the second tuple**\")\n",
    "print(nestedTuple[1])\n",
    "print(nestedTuple[1][0])\n",
    "print(nestedTuple[1][1])\n",
    "\n",
    "#Printing the elements of the sub-tuple in the SECOND tuple\n",
    "print(\"\\n**Elements of the sub-tuple in the SECOND tuple**\")\n",
    "print(nestedTuple[1][1][0]) \n",
    "print(nestedTuple[1][1][1])\n",
    "print(nestedTuple[1][1][2])"
   ]
  },
  {
   "cell_type": "code",
   "execution_count": 15,
   "metadata": {},
   "outputs": [
    {
     "data": {
      "text/plain": [
       "(2, 'Lists', 'Tuple')"
      ]
     },
     "execution_count": 15,
     "metadata": {},
     "output_type": "execute_result"
    }
   ],
   "source": [
    "#Q13 Access (2,\"Lists\",\"Tuple\") from nestedTuple\n",
    "nestedTuple[1][1]"
   ]
  },
  {
   "cell_type": "code",
   "execution_count": 16,
   "metadata": {},
   "outputs": [
    {
     "data": {
      "text/plain": [
       "'Lists'"
      ]
     },
     "execution_count": 16,
     "metadata": {},
     "output_type": "execute_result"
    }
   ],
   "source": [
    "#Q14 Access \"Lists\" from nestedTuple\n",
    "nestedTuple[1][1][1]"
   ]
  },
  {
   "cell_type": "code",
   "execution_count": 17,
   "metadata": {},
   "outputs": [
    {
     "data": {
      "text/plain": [
       "'Tuple'"
      ]
     },
     "execution_count": 17,
     "metadata": {},
     "output_type": "execute_result"
    }
   ],
   "source": [
    "#Q15 Access \"Tuple\" from nestedTuple\n",
    "nestedTuple[1][1][2]"
   ]
  },
  {
   "cell_type": "code",
   "execution_count": 18,
   "metadata": {},
   "outputs": [
    {
     "data": {
      "text/plain": [
       "'course'"
      ]
     },
     "execution_count": 18,
     "metadata": {},
     "output_type": "execute_result"
    }
   ],
   "source": [
    "#Q16 Access \"course\" from nestedTuple\n",
    "nestedTuple[0][1]"
   ]
  },
  {
   "cell_type": "code",
   "execution_count": 19,
   "metadata": {},
   "outputs": [
    {
     "data": {
      "text/plain": [
       "('NPower',\n",
       " 'JDA',\n",
       " 'Tuesday',\n",
       " 30,\n",
       " 3,\n",
       " 2021,\n",
       " ('Coursera', 'course', 6),\n",
       " ('week', (2, 'Lists', 'Tuple')))"
      ]
     },
     "execution_count": 19,
     "metadata": {},
     "output_type": "execute_result"
    }
   ],
   "source": [
    "#Q17 Concatenate myTuple with nestedTuple\n",
    "\n",
    "myTuple=myTuple+nestedTuple\n",
    "myTuple"
   ]
  },
  {
   "cell_type": "code",
   "execution_count": 20,
   "metadata": {},
   "outputs": [
    {
     "data": {
      "text/plain": [
       "('NPower',\n",
       " 'JDA',\n",
       " 'Tuesday',\n",
       " 30,\n",
       " 3,\n",
       " 2021,\n",
       " ('Coursera', 'course', 6),\n",
       " ('week', (2, 'Lists', 'Tuple')),\n",
       " 'Mara',\n",
       " 'Sarah')"
      ]
     },
     "execution_count": 20,
     "metadata": {},
     "output_type": "execute_result"
    }
   ],
   "source": [
    "#Q18 add your name to the tuple\n",
    "\n",
    "myTuple=myTuple+((\"Mara\"),)\n",
    "# OR\n",
    "myTuple=myTuple+(\"Sarah\",)\n",
    "\n",
    "myTuple\n"
   ]
  },
  {
   "cell_type": "code",
   "execution_count": 21,
   "metadata": {},
   "outputs": [
    {
     "data": {
      "text/plain": [
       "False"
      ]
     },
     "execution_count": 21,
     "metadata": {},
     "output_type": "execute_result"
    }
   ],
   "source": [
    "#Q19 check whether Coursera exists within a myTuple\n",
    "'Coursera' in myTuple\n",
    "\n",
    "# NOTE in doesn't work properly with nested tuples # Wrong output\n"
   ]
  },
  {
   "cell_type": "code",
   "execution_count": 22,
   "metadata": {},
   "outputs": [
    {
     "name": "stdout",
     "output_type": "stream",
     "text": [
      "False\n",
      "True\n"
     ]
    }
   ],
   "source": [
    "#Q20 check whether an element exists within a testTuple\n",
    "\n",
    "testTuple=(1,2,33,55,6,55)\n",
    "print(9 in testTuple)\n",
    "print(33 in testTuple)"
   ]
  },
  {
   "cell_type": "code",
   "execution_count": 23,
   "metadata": {},
   "outputs": [
    {
     "name": "stdout",
     "output_type": "stream",
     "text": [
      "1\n"
     ]
    }
   ],
   "source": [
    "#Q21 Find the index of JDA in myTuple\n",
    "\n",
    "myTuple\n",
    "print(myTuple.index(\"JDA\"))\n",
    "\n",
    "# Find the index of 'Coursera' in myTuple\n",
    "# NOTE index doesn't work properly with nested tuples # Wrong output\n"
   ]
  },
  {
   "cell_type": "code",
   "execution_count": 24,
   "metadata": {},
   "outputs": [
    {
     "data": {
      "text/plain": [
       "'Mara'"
      ]
     },
     "execution_count": 24,
     "metadata": {},
     "output_type": "execute_result"
    }
   ],
   "source": [
    "#Q22 print index 8 from myTuple\n",
    "myTuple[8]\n"
   ]
  },
  {
   "cell_type": "code",
   "execution_count": null,
   "metadata": {},
   "outputs": [],
   "source": [
    "#Q23 Get the 4th element and 4th element from last of a myTuple"
   ]
  },
  {
   "cell_type": "code",
   "execution_count": null,
   "metadata": {},
   "outputs": [],
   "source": [
    "#Q24 Find how many times 27 appeared in the tuple [Hint: Use method count()]"
   ]
  }
 ],
 "metadata": {
  "kernelspec": {
   "display_name": "Python 3",
   "language": "python",
   "name": "python3"
  },
  "language_info": {
   "codemirror_mode": {
    "name": "ipython",
    "version": 3
   },
   "file_extension": ".py",
   "mimetype": "text/x-python",
   "name": "python",
   "nbconvert_exporter": "python",
   "pygments_lexer": "ipython3",
   "version": "3.8.5"
  }
 },
 "nbformat": 4,
 "nbformat_minor": 4
}
